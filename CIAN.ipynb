{
 "cells": [
  {
   "cell_type": "code",
   "execution_count": 1,
   "metadata": {
    "collapsed": false,
    "scrolled": true
   },
   "outputs": [],
   "source": [
    "# libraries\n",
    "\n",
    "import requests\n",
    "import re\n",
    "import pandas as pd\n",
    "import time\n",
    "import numpy as np\n",
    "from bs4 import BeautifulSoup\n"
   ]
  },
  {
   "cell_type": "code",
   "execution_count": 2,
   "metadata": {
    "collapsed": false
   },
   "outputs": [],
   "source": [
    "def html_stripper(text):\n",
    "    return re.sub('<[^<]+?>', '', str(text))"
   ]
  },
  {
   "cell_type": "code",
   "execution_count": 3,
   "metadata": {
    "collapsed": false
   },
   "outputs": [],
   "source": [
    "# price of the apartament\n",
    "\n",
    "def getPrice(flat_page):\n",
    "    price = flat_page.find('div', attrs={'class':'object_descr_price'})\n",
    "    price = re.split('<div>|руб|\\W', str(price))\n",
    "    price = \"\".join([i for i in price if i.isdigit()][-3:])\n",
    "    return int(price)"
   ]
  },
  {
   "cell_type": "code",
   "execution_count": 4,
   "metadata": {
    "collapsed": true
   },
   "outputs": [],
   "source": [
    "# lan and lon coordinates\n",
    "\n",
    "def getCoords(flat_page):\n",
    "    coords = flat_page.find('div', attrs={'class':'map_info_button_extend'}).contents[1]\n",
    "    coords = re.split('&amp|center=|%2C', str(coords))\n",
    "    coords_list = []\n",
    "    for item in coords:\n",
    "        if item[0].isdigit():\n",
    "            coords_list.append(item)\n",
    "    lat = float(coords_list[0])\n",
    "    lon = float(coords_list[1])\n",
    "    return lat,lon"
   ]
  },
  {
   "cell_type": "code",
   "execution_count": 5,
   "metadata": {
    "collapsed": true
   },
   "outputs": [],
   "source": [
    "# number of rooms in the apartament\n",
    "\n",
    "def getRoom(flat_page):\n",
    "    rooms = flat_page.find('div', attrs={'class':'object_descr_title'})\n",
    "    rooms = html_stripper(rooms)\n",
    "    room_number = ''\n",
    "    for i in re.split('-|\\n', rooms):\n",
    "        if 'комн' in i:\n",
    "            break\n",
    "        else:\n",
    "            room_number += i\n",
    "    room_number = \"\".join(room_number.split())\n",
    "    return room_number"
   ]
  },
  {
   "cell_type": "code",
   "execution_count": 6,
   "metadata": {
    "collapsed": false
   },
   "outputs": [],
   "source": [
    "# total square of apartament\n",
    "\n",
    "def getTotalSquare(flat_page):\n",
    "    table = flat_page.find('table', attrs = {'class':'object_descr_props'})\n",
    "    table = html_stripper(table)\n",
    "    table = re.split('Общая площадь:|Площадь комнат', table)[1]\n",
    "    for item in re.split('\\s', str(table)):\n",
    "        if item!='':\n",
    "            square = item\n",
    "            break\n",
    "    return square"
   ]
  },
  {
   "cell_type": "code",
   "execution_count": 7,
   "metadata": {
    "collapsed": true
   },
   "outputs": [],
   "source": [
    "# total live square\n",
    "\n",
    "def getLiveSquare(flat_page):\n",
    "    table = flat_page.find('table', attrs = {'class':'object_descr_props'})\n",
    "    table = html_stripper(table)\n",
    "    table = re.split('Жилая площадь:|Площадь кухни', table)[1]\n",
    "    for item in re.split('\\s', str(table)):\n",
    "        if item!='':\n",
    "            square = item\n",
    "            break\n",
    "    if (square == '–'): square='None'\n",
    "    return square"
   ]
  },
  {
   "cell_type": "code",
   "execution_count": 8,
   "metadata": {
    "collapsed": true
   },
   "outputs": [],
   "source": [
    "# kitchen square\n",
    "\n",
    "def getKitchenSquare(flat_page):\n",
    "    table = flat_page.find('table', attrs = {'class':'object_descr_props'})\n",
    "    table = html_stripper(table)\n",
    "    table = re.split('Площадь кухни:|Санузел', table)[1]\n",
    "    for item in re.split('\\s', str(table)):\n",
    "        if item!='':\n",
    "            square = item\n",
    "            break\n",
    "    if (square == '–'): square='None'\n",
    "    return square"
   ]
  },
  {
   "cell_type": "code",
   "execution_count": 9,
   "metadata": {
    "collapsed": true
   },
   "outputs": [],
   "source": [
    "# balcony 0/1\n",
    "\n",
    "def getBalcon(flat_page):\n",
    "    bal = 0\n",
    "    bal1 = 0\n",
    "    table = flat_page.find('table', attrs = {'class':'object_descr_props'})\n",
    "    table = html_stripper(table)\n",
    "    table = re.split('Балкон:|Лифт', table)[1]\n",
    "    if (table.find('нет')>0 or table.find('-')>0 or table.find('отсутс')>0):\n",
    "        bal = 0\n",
    "    else:\n",
    "        if (table.find('лодж')>0 or table.find('балк')>0):\n",
    "            bal = 1\n",
    "    return(bal)       \n"
   ]
  },
  {
   "cell_type": "code",
   "execution_count": 10,
   "metadata": {
    "collapsed": true
   },
   "outputs": [],
   "source": [
    "# floor of the apartament\n",
    "\n",
    "def getFloor(flat_page):\n",
    "    table = flat_page.find('table', attrs = {'class':'object_descr_props'})\n",
    "    table = html_stripper(table)\n",
    "    table = re.split('Этаж:|Тип дома', table)[1]\n",
    "    if (table.find('/')>0):\n",
    "        a = table.find('/')-1\n",
    "        i = 1\n",
    "        num = 0\n",
    "        while (table[a-i].isdigit()):\n",
    "            num = num + 10**(i-1)*int(table[a-i])\n",
    "            i = i + 1\n",
    "    else:\n",
    "        for item in re.split('\\s', str(table)):\n",
    "            if (item.isdigit()>0):\n",
    "                num = item\n",
    "                break    \n",
    "    return(num)"
   ]
  },
  {
   "cell_type": "code",
   "execution_count": 11,
   "metadata": {
    "collapsed": true
   },
   "outputs": [],
   "source": [
    "# number of floors in house\n",
    "\n",
    "def getNumberFloor(flat_page):\n",
    "    table = flat_page.find('table', attrs = {'class':'object_descr_props'})\n",
    "    table = html_stripper(table)\n",
    "    table = re.split('Этаж:|Тип дома', table)[1]\n",
    "    if (table.find('/')>0):\n",
    "        a = table.find('/')+1\n",
    "        i = 1\n",
    "        num = 0\n",
    "        while (table[a+i].isdigit()):\n",
    "            num = num*10**(i-1) + int(table[a+i])\n",
    "            i = i + 1\n",
    "    else:\n",
    "           num = 'None'  \n",
    "    return(num)"
   ]
  },
  {
   "cell_type": "code",
   "execution_count": 12,
   "metadata": {
    "collapsed": true
   },
   "outputs": [],
   "source": [
    "# new building 0/1\n",
    "\n",
    "def getNew(flat_page):\n",
    "    table = flat_page.find('table', attrs = {'class':'object_descr_props'})\n",
    "    table = html_stripper(table)\n",
    "    table = re.split('Тип дома:|Тип продажи', table)[1]\n",
    "    if (table.find('перв')>0 or table.find('новостро')>0):\n",
    "        type = 1\n",
    "    else:\n",
    "        if (table.find('втор')>0):\n",
    "            type = 0\n",
    "        else:\n",
    "            type = 'None'\n",
    "    return(type)"
   ]
  },
  {
   "cell_type": "code",
   "execution_count": 13,
   "metadata": {
    "collapsed": true
   },
   "outputs": [],
   "source": [
    "# brick, monolith, reinforced concrete or another 1/0\n",
    "\n",
    "def getMaterial(flat_page):\n",
    "    table = flat_page.find('table', attrs = {'class':'object_descr_props'})\n",
    "    table = html_stripper(table)\n",
    "    table = re.split('Тип дома:|Тип продажи', table)[1]\n",
    "    if (table.find('кирп')>0 or table.find('монол')>0 or table.find('жб')>0 or table.find('желез')>0):\n",
    "        type = 1\n",
    "    else:\n",
    "        type = 0\n",
    "    return(type)"
   ]
  },
  {
   "cell_type": "code",
   "execution_count": 14,
   "metadata": {
    "collapsed": true
   },
   "outputs": [],
   "source": [
    "# telephone 0/1\n",
    "\n",
    "def getTelefone(flat_page):\n",
    "    table = flat_page.find('table', attrs = {'class':'object_descr_props'})\n",
    "    table = html_stripper(table)\n",
    "    table = re.split('Телефон:|Вид из окна', table)[1]\n",
    "    num = 'None'\n",
    "    for item in re.split('\\s', str(table)):\n",
    "        if (item == 'да'):\n",
    "            num = 1\n",
    "            break\n",
    "        else:\n",
    "            if (item == 'нет'):\n",
    "                num = 0\n",
    "                break\n",
    "    return(num)"
   ]
  },
  {
   "cell_type": "code",
   "execution_count": 15,
   "metadata": {
    "collapsed": false
   },
   "outputs": [],
   "source": [
    "# distance to mento in min\n",
    "\n",
    "def getDistMetro(flat_page):\n",
    "    dist = flat_page.find('span', attrs={'class':'object_item_metro_comment'})\n",
    "    dist = html_stripper(dist)\n",
    "    if (dist!='None'):\n",
    "        for item in re.split('\\s', str(dist)):\n",
    "                if item!='':\n",
    "                    dist = item\n",
    "                    break\n",
    "                else:    \n",
    "                    dist = 'None'\n",
    "    if dist == 'None': \n",
    "        dist1 = flat_page.find('div', attrs={'class':'object_descr_text'})\n",
    "        dist1 = html_stripper(dist1)\n",
    "        a = dist1.find('мин') - 1\n",
    "        num = 0\n",
    "        for i in range(1,3):\n",
    "            if (dist1[a-i]!=' '):\n",
    "                if (dist1[a-i].isdigit()):\n",
    "                    num = num + int(dist1[a-i])*(10**(i-1))\n",
    "                else: break\n",
    "            else:\n",
    "                 break\n",
    "            if (num>0):\n",
    "                dist = num\n",
    "            else: \n",
    "                dist = 'None'                \n",
    "    return dist"
   ]
  },
  {
   "cell_type": "code",
   "execution_count": 16,
   "metadata": {
    "collapsed": false
   },
   "outputs": [],
   "source": [
    "# on foot/transport to metro\n",
    "\n",
    "def getWalkMetro(flat_page):    \n",
    "    dist = flat_page.find('span', attrs={'class':'object_item_metro_comment'})\n",
    "    dist = html_stripper(dist)\n",
    "    if (dist!='None'):\n",
    "        if ((dist.find('тран')>0) or (dist.find('маш')>0) or (dist.find('авт')>0) or (dist.find('трам')>0))  :\n",
    "            ans = 0\n",
    "        else: \n",
    "            if (dist.find('пеш')>0) :\n",
    "                ans = 1\n",
    "            else: \n",
    "                ans = 'None'\n",
    "    if dist == 'None': \n",
    "        dist1 = flat_page.find('div', attrs={'class':'object_descr_text'})\n",
    "        dist1 = html_stripper(dist1)\n",
    "        if ((dist1.find('тран')>0) or (dist1.find('маш')>0) or (dist1.find('авт')>0) or (dist1.find('трам')>0))  :\n",
    "            ans = 0\n",
    "        else: \n",
    "            if (dist1.find('пеш')>0) :\n",
    "                ans = 1\n",
    "            else: \n",
    "                ans = 'None'              \n",
    "    return ans"
   ]
  },
  {
   "cell_type": "code",
   "execution_count": 17,
   "metadata": {
    "collapsed": true
   },
   "outputs": [],
   "source": [
    "# Distance to the center of Moscow (Piphagor)\n",
    "\n",
    "def getDist(flat_page):\n",
    "    coords = flat_page.find('div', attrs={'class':'map_info_button_extend'}).contents[1]\n",
    "    coords = re.split('&amp|center=|%2C', str(coords))\n",
    "    coords_list = []\n",
    "    for item in coords:\n",
    "        if item[0].isdigit():\n",
    "            coords_list.append(item)\n",
    "    lat = float(coords_list[0])\n",
    "    lon = float(coords_list[1])\n",
    "    \n",
    "    lat1 =  55.755833\n",
    "    lon1 = 37.617778\n",
    "    \n",
    "    delta_lat = (lat - lat1)**2\n",
    "    delta_lng = (lon - lon1)**2\n",
    "    \n",
    "    dist = np.sqrt(delta_lat + delta_lng)\n",
    "    return dist"
   ]
  },
  {
   "cell_type": "code",
   "execution_count": 18,
   "metadata": {
    "collapsed": false
   },
   "outputs": [],
   "source": [
    "# main districts of Moscow and the suburbs\n",
    "\n",
    "kol = 0\n",
    "\n",
    "district1 =[]\n",
    "\n",
    "district1.append('http://www.cian.ru/cat.php?deal_type=sale&district%5B0%5D=13&district%5B1%5D=14&district%5B2%5D=15&district%5B3%5D=16&district%5B4%5D=17&district%5B5%5D=18&district%5B6%5D=19&district%5B7%5D=20&district%5B8%5D=21&district%5B9%5D=22&engine_version=2&offer_type=flat&p={}&room1=1&room2=1&room3=1&room4=1&room5=1&room6=1')\n",
    "district1.append('http://www.cian.ru/cat.php?deal_type=sale&district%5B0%5D=23&district%5B10%5D=33&district%5B11%5D=34&district%5B12%5D=35&district%5B13%5D=36&district%5B14%5D=37&district%5B15%5D=38&district%5B1%5D=24&district%5B2%5D=25&district%5B3%5D=26&district%5B4%5D=27&district%5B5%5D=28&district%5B6%5D=29&district%5B7%5D=30&district%5B8%5D=31&district%5B9%5D=32&engine_version=2&offer_type=flat&room1=1&room2=1&room3=1&room4=1&room5=1&room6=1')\n",
    "district1.append('http://www.cian.ru/cat.php?deal_type=sale&district%5B0%5D=39&district%5B10%5D=49&district%5B11%5D=50&district%5B12%5D=51&district%5B13%5D=52&district%5B14%5D=53&district%5B15%5D=54&district%5B16%5D=55&district%5B1%5D=40&district%5B2%5D=41&district%5B3%5D=42&district%5B4%5D=43&district%5B5%5D=44&district%5B6%5D=45&district%5B7%5D=46&district%5B8%5D=47&district%5B9%5D=48&engine_version=2&offer_type=flat&room1=1&room2=1&room3=1&room4=1&room5=1&room6=1')\n",
    "district1.append('http://www.cian.ru/cat.php?deal_type=sale&district%5B0%5D=56&district%5B10%5D=66&district%5B11%5D=67&district%5B12%5D=68&district%5B13%5D=69&district%5B14%5D=70&district%5B15%5D=71&district%5B1%5D=57&district%5B2%5D=58&district%5B3%5D=59&district%5B4%5D=60&district%5B5%5D=61&district%5B6%5D=62&district%5B7%5D=63&district%5B8%5D=64&district%5B9%5D=65&engine_version=2&offer_type=flat&room1=1&room2=1&room3=1&room4=1&room5=1&room6=1')\n",
    "district1.append('http://www.cian.ru/cat.php?deal_type=sale&district%5B0%5D=72&district%5B10%5D=82&district%5B11%5D=83&district%5B1%5D=73&district%5B2%5D=74&district%5B3%5D=75&district%5B4%5D=76&district%5B5%5D=77&district%5B6%5D=78&district%5B7%5D=79&district%5B8%5D=80&district%5B9%5D=81&engine_version=2&offer_type=flat&room1=1&room2=1&room3=1&room4=1&room5=1&room6=1')\n",
    "district1.append('http://www.cian.ru/cat.php?deal_type=sale&district%5B0%5D=84&district%5B10%5D=94&district%5B11%5D=95&district%5B12%5D=96&district%5B13%5D=97&district%5B14%5D=98&district%5B15%5D=99&district%5B1%5D=85&district%5B2%5D=86&district%5B3%5D=87&district%5B4%5D=88&district%5B5%5D=89&district%5B6%5D=90&district%5B7%5D=91&district%5B8%5D=92&district%5B9%5D=93&engine_version=2&offer_type=flat&room1=1&room2=1&room3=1&room4=1&room5=1&room6=1')\n",
    "district1.append('http://www.cian.ru/cat.php?deal_type=sale&district%5B0%5D=100&district%5B10%5D=110&district%5B11%5D=111&district%5B1%5D=101&district%5B2%5D=102&district%5B3%5D=103&district%5B4%5D=104&district%5B5%5D=105&district%5B6%5D=106&district%5B7%5D=107&district%5B8%5D=108&district%5B9%5D=109&engine_version=2&offer_type=flat&room1=1&room2=1&room3=1&room4=1&room5=1&room6=1')\n",
    "district1.append('http://www.cian.ru/cat.php?deal_type=sale&district%5B0%5D=112&district%5B10%5D=122&district%5B11%5D=123&district%5B12%5D=124&district%5B13%5D=348&district%5B14%5D=349&district%5B15%5D=350&district%5B1%5D=113&district%5B2%5D=114&district%5B3%5D=115&district%5B4%5D=116&district%5B5%5D=117&district%5B6%5D=118&district%5B7%5D=119&district%5B8%5D=120&district%5B9%5D=121&engine_version=2&offer_type=flat&room1=1&room2=1&room3=1&room4=1&room5=1&room6=1')\n",
    "district1.append('http://www.cian.ru/cat.php?deal_type=sale&district%5B0%5D=125&district%5B1%5D=126&district%5B2%5D=127&district%5B3%5D=128&district%5B4%5D=129&district%5B5%5D=130&district%5B6%5D=131&district%5B7%5D=132&engine_version=2&offer_type=flat&room1=1&room2=1&room3=1&room4=1&room5=1&room6=1')\n",
    "district1.append('http://www.cian.ru/cat.php?deal_type=sale&district%5B0%5D=327&district%5B10%5D=337&district%5B1%5D=328&district%5B2%5D=329&district%5B3%5D=330&district%5B4%5D=331&district%5B5%5D=332&district%5B6%5D=333&district%5B7%5D=334&district%5B8%5D=335&district%5B9%5D=336&engine_version=2&offer_type=flat&room1=1&room2=1&room3=1&room4=1&room5=1&room6=1')\n",
    "district1.append('http://www.cian.ru/cat.php?deal_type=sale&district%5B0%5D=338&district%5B1%5D=339&district%5B2%5D=340&district%5B3%5D=341&district%5B4%5D=342&district%5B5%5D=343&district%5B6%5D=344&district%5B7%5D=345&district%5B8%5D=346&district%5B9%5D=347&engine_version=2&offer_type=flat&room1=1&room2=1&room3=1&room4=1&room5=1&room6=1')\n",
    "Cian = []  "
   ]
  },
  {
   "cell_type": "code",
   "execution_count": 19,
   "metadata": {
    "collapsed": false
   },
   "outputs": [
    {
     "name": "stdout",
     "output_type": "stream",
     "text": [
      "0\n",
      "812\n",
      "1\n",
      "812\n",
      "2\n",
      "812\n",
      "3\n",
      "812\n",
      "4\n",
      "812\n",
      "5\n",
      "812\n",
      "6\n",
      "812\n",
      "7\n",
      "812\n",
      "8\n",
      "812\n",
      "9\n",
      "812\n"
     ]
    }
   ],
   "source": [
    "for raon in range(0,10): # all districts\n",
    "    \n",
    "    print(raon)\n",
    "    district = district1[raon]\n",
    "\n",
    "    links = []\n",
    "\n",
    "    for page in range(1, 30): # pages of each distroct with restrictions equal to 30\n",
    "\n",
    "        page_url =  district.format(page)\n",
    "\n",
    "        search_page = requests.get(page_url)\n",
    "        search_page = search_page.content\n",
    "        search_page = BeautifulSoup(search_page, 'lxml')\n",
    "\n",
    "        flat_urls = search_page.findAll('div', attrs = {'ng-class':\"{'serp-item_removed': offer.remove.state, 'serp-item_popup-opened': isPopupOpen}\"})\n",
    "        flat_urls = re.split('http://www.cian.ru/sale/flat/|/\" ng-class=\"', str(flat_urls))\n",
    "\n",
    "        for link in flat_urls: # all links to apartaments in district\n",
    "            if link.isdigit():\n",
    "                links.append(link)   \n",
    "\n",
    "              \n",
    "    for i in range(0, len(links)):\n",
    "\n",
    "        kol = kol+1\n",
    "        flat_url = 'http://www.cian.ru/sale/flat/' + str(links[i]) + '/'\n",
    "        flat_page = requests.get(flat_url)\n",
    "        flat_page = flat_page.content\n",
    "        flat_page = BeautifulSoup(flat_page, 'lxml')\n",
    "\n",
    "        flatStats = {'District':0}\n",
    "\n",
    "        flatStats['URL'] = str(links[i])\n",
    "        flatStats['N'] = kol\n",
    "        flatStats['Price']= getPrice(flat_page)\n",
    "        flatStats['lat'], flatStats['lon'] = getCoords(flat_page)\n",
    "        flatStats['rooms'] = getRoom(flat_page)\n",
    "        flatStats['Totsp'] = getTotalSquare(flat_page)\n",
    "        flatStats['Livesp'] = getLiveSquare(flat_page)\n",
    "        flatStats['Kitsp'] = getKitchenSquare(flat_page)\n",
    "        flatStats['MetrDist'] = getDistMetro(flat_page)\n",
    "        flatStats['Walk'] = getWalkMetro(flat_page)\n",
    "        flatStats['Dist'] = getDist(flat_page) \n",
    "        flatStats['Bal'] = getBalcon(flat_page)\n",
    "        flatStats['Floor'] = getFloor(flat_page)\n",
    "        flatStats['NFloor'] = getNumberFloor(flat_page)\n",
    "        flatStats['New'] = getNew(flat_page)\n",
    "        flatStats['Brick'] = getMaterial(flat_page)\n",
    "        flatStats['Tel'] = getTelefone(flat_page)\n",
    "\n",
    "        Cian.append(flatStats) # data base\n",
    "    "
   ]
  },
  {
   "cell_type": "code",
   "execution_count": 20,
   "metadata": {
    "collapsed": false
   },
   "outputs": [],
   "source": [
    "P = pd.DataFrame(Cian)\n",
    "P.to_csv('cianchik.csv')"
   ]
  }
 ],
 "metadata": {
  "kernelspec": {
   "display_name": "Python 3",
   "language": "python",
   "name": "python3"
  },
  "language_info": {
   "codemirror_mode": {
    "name": "ipython",
    "version": 3
   },
   "file_extension": ".py",
   "mimetype": "text/x-python",
   "name": "python",
   "nbconvert_exporter": "python",
   "pygments_lexer": "ipython3",
   "version": "3.5.1"
  }
 },
 "nbformat": 4,
 "nbformat_minor": 0
}
